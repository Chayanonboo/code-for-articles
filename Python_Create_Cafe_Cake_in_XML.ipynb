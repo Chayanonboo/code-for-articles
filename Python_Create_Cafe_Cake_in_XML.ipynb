{
  "nbformat": 4,
  "nbformat_minor": 0,
  "metadata": {
    "colab": {
      "provenance": [],
      "authorship_tag": "ABX9TyOkASIHbehc/epgqXhWRSDA",
      "include_colab_link": true
    },
    "kernelspec": {
      "name": "python3",
      "display_name": "Python 3"
    },
    "language_info": {
      "name": "python"
    }
  },
  "cells": [
    {
      "cell_type": "markdown",
      "metadata": {
        "id": "view-in-github",
        "colab_type": "text"
      },
      "source": [
        "<a href=\"https://colab.research.google.com/github/Chayanonboo/code-for-articles/blob/main/Python_Create_Cafe_Cake_in_XML.ipynb\" target=\"_parent\"><img src=\"https://colab.research.google.com/assets/colab-badge.svg\" alt=\"Open In Colab\"/></a>"
      ]
    },
    {
      "cell_type": "markdown",
      "source": [
        "## Data Science Bootcamp 10\n",
        "## Project  : Create Cafe Cake in xml for manipulate data in Python\n",
        "## Author   : Chayanon Boonthanom\n",
        "## Language : xml Python\n",
        "## Date     : 09 May 2025\n"
      ],
      "metadata": {
        "id": "qT15Y75LxWdN"
      }
    },
    {
      "cell_type": "markdown",
      "source": [
        "ต้อง Import ข้อมูลผ่าน **xml.etree.ElementTree** เพื่อให้สามารถอ่านข้อมูล xml บน Python ได้\n",
        "\n"
      ],
      "metadata": {
        "id": "0yK5Apulx8pJ"
      }
    },
    {
      "cell_type": "code",
      "source": [
        "import xml.etree.ElementTree as ET\n",
        "xml_data = \"\"\"\n",
        " <cafe>\n",
        "  <cake>\n",
        "    <name>Oreo Chesse Cake</name>\n",
        "    <price>2.50</price>\n",
        "    <taste>sweet</taste>\n",
        "  </cake>\n",
        "  <cake>\n",
        "    <name>Bluebeery Chesse Cake</name>\n",
        "    <price>4.50</price>\n",
        "    <taste>sweet</taste>\n",
        "  </cake>\n",
        "  <cake>\n",
        "    <name>New York Chesse Cake</name>\n",
        "    <price>5.50</price>\n",
        "    <taste>salty</taste>\n",
        "  </cake>\n",
        "  <drink>\n",
        "    <name>Ovaltine</name>\n",
        "    <price>2.00</price>\n",
        "    <taste>sweet</taste>\n",
        "  </drink>\n",
        "  <drink>\n",
        "    <name>Mineral Water</name>\n",
        "    <price>1.00</price>\n",
        "    <taste>tasteless</taste>\n",
        "  </drink>\n",
        " </cafe>\n",
        " \"\"\"\n",
        "\n",
        "root = ET.fromstring(xml_data.strip())"
      ],
      "metadata": {
        "id": "MIY1Qm-PvlJ_"
      },
      "execution_count": 20,
      "outputs": []
    },
    {
      "cell_type": "markdown",
      "source": [
        "fromstring() คือการอ่านข้อมูลจาก XML"
      ],
      "metadata": {
        "id": "ftogJJK4xQiY"
      }
    },
    {
      "cell_type": "markdown",
      "source": [
        "**อ่านชื่อเมนู อาหารสำหรับเค้กของร้านนี้**"
      ],
      "metadata": {
        "id": "DA7n6PZTymmE"
      }
    },
    {
      "cell_type": "code",
      "source": [
        "print(\"--- Cakes ---\")\n",
        "for cake_element in root.findall('cake'):\n",
        "    name = cake_element.find('name').text\n",
        "    price = cake_element.find('price').text\n",
        "    taste = cake_element.find('taste').text\n",
        "    print(f\"Name: {name}, Price: {price}, Taste: {taste}\")"
      ],
      "metadata": {
        "colab": {
          "base_uri": "https://localhost:8080/"
        },
        "id": "zU1gipklxJr8",
        "outputId": "75b5b848-edbc-46d0-bc6a-df99a68c29ac"
      },
      "execution_count": 21,
      "outputs": [
        {
          "output_type": "stream",
          "name": "stdout",
          "text": [
            "--- Cakes ---\n",
            "Name: Oreo Chesse Cake, Price: 2.50, Taste: sweet\n",
            "Name: Bluebeery Chesse Cake, Price: 4.50, Taste: sweet\n",
            "Name: New York Chesse Cake, Price: 5.50, Taste: salty\n"
          ]
        }
      ]
    },
    {
      "cell_type": "markdown",
      "source": [
        "**อ่านชื่อน้ำดื่ม สำหรับน้ำดื่มของร้านนี้**"
      ],
      "metadata": {
        "id": "4P13o_YzyyTU"
      }
    },
    {
      "cell_type": "code",
      "source": [
        "print(\"\\n--- Drinks ---\")\n",
        "for drink_element in root.findall('drink'):\n",
        "    name = drink_element.find('name').text\n",
        "    price = drink_element.find('price').text\n",
        "    taste = drink_element.find('taste').text\n",
        "    print(f\"Name: {name}, Price: {price}, Taste: {taste}\")"
      ],
      "metadata": {
        "colab": {
          "base_uri": "https://localhost:8080/"
        },
        "id": "xmHkRoeFwDoa",
        "outputId": "480d8013-1dfd-401f-94fb-900b3dd89c8d"
      },
      "execution_count": 22,
      "outputs": [
        {
          "output_type": "stream",
          "name": "stdout",
          "text": [
            "\n",
            "--- Drinks ---\n",
            "Name: Ovaltine, Price: 2.00, Taste: sweet\n",
            "Name: Mineral Water, Price: 1.00, Taste: tasteless\n"
          ]
        }
      ]
    }
  ]
}